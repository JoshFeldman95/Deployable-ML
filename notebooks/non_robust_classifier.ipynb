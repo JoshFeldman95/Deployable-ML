{
 "cells": [
  {
   "cell_type": "code",
   "execution_count": null,
   "metadata": {},
   "outputs": [],
   "source": [
    "import numpy as np\n",
    "import matplotlib.pyplot as plt\n",
    "import pandas as pd\n",
    "import seaborn as sns\n",
    "sns.set()\n",
    "\n",
    "from tqdm import tqdm\n",
    "\n",
    "import torchtext\n",
    "import torch\n",
    "from torch import nn\n",
    "\n",
    "from transformers import DistilBertForSequenceClassification, BertForSequenceClassification, DistilBertTokenizer, AdamW"
   ]
  },
  {
   "cell_type": "code",
   "execution_count": 3,
   "metadata": {},
   "outputs": [],
   "source": [
    "# Set params\n",
    "device = 'cuda'\n",
    "pretrained_weights = 'distilbert-base-uncased' # specify type of BERT we want"
   ]
  },
  {
   "cell_type": "code",
   "execution_count": 42,
   "metadata": {},
   "outputs": [],
   "source": [
    "# load BERT tokenizer and classifier\n",
    "tokenizer = DistilBertTokenizer.from_pretrained(pretrained_weights)\n",
    "bert = DistilBertForSequenceClassification.from_pretrained(pretrained_weights)\n",
    "bert = bert.to(device)"
   ]
  },
  {
   "cell_type": "markdown",
   "metadata": {
    "colab_type": "text",
    "id": "cRqubdmErpks"
   },
   "source": [
    "# Load IMDb"
   ]
  },
  {
   "cell_type": "code",
   "execution_count": 5,
   "metadata": {
    "colab": {},
    "colab_type": "code",
    "id": "K84h-fQOrpkt"
   },
   "outputs": [],
   "source": [
    "# set up fields\n",
    "TEXT = torchtext.data.Field(\n",
    "    lower=True, \n",
    "    fix_length = 256,\n",
    "    batch_first=True, \n",
    "    truncate_first=True,\n",
    "    tokenize = tokenizer.tokenize, \n",
    "    pad_token=tokenizer.pad_token,\n",
    "    unk_token=tokenizer.unk_token,\n",
    "    init_token=tokenizer.cls_token,\n",
    "    eos_token=tokenizer.sep_token,\n",
    ")\n",
    "LABEL = torchtext.data.Field(sequential=False)"
   ]
  },
  {
   "cell_type": "code",
   "execution_count": 39,
   "metadata": {},
   "outputs": [],
   "source": [
    "# make splits for adversarial set\n",
    "train_adv, test_adv = torchtext.datasets.IMDB(\n",
    "    '../data/adversarial_imdb_10k/train',\n",
    "    TEXT,\n",
    "    LABEL,\n",
    ").split(split_ratio=.8, stratified=True)"
   ]
  },
  {
   "cell_type": "code",
   "execution_count": null,
   "metadata": {
    "colab": {
     "base_uri": "https://localhost:8080/",
     "height": 51
    },
    "colab_type": "code",
    "id": "o8Iaw2HQrpkv",
    "outputId": "de993b87-9d94-4334-bfac-121022159d0a"
   },
   "outputs": [],
   "source": [
    "# make splits for original set\n",
    "train, test = torchtext.datasets.IMDB.splits(TEXT, LABEL)"
   ]
  },
  {
   "cell_type": "code",
   "execution_count": 40,
   "metadata": {
    "colab": {},
    "colab_type": "code",
    "id": "cOuFNP3orpkw"
   },
   "outputs": [],
   "source": [
    "# build the vocabulary\n",
    "TEXT.build_vocab(train_adv)\n",
    "LABEL.build_vocab(train_adv)\n",
    "\n",
    "itos = [token for token in tokenizer.vocab]\n",
    "stoi = {token: index for index, token in enumerate(tokenizer.vocab)}\n",
    "stoi['[unk]'] = stoi['[UNK]']\n",
    "\n",
    "TEXT.vocab.itos = itos\n",
    "TEXT.vocab.stoi = stoi"
   ]
  },
  {
   "cell_type": "code",
   "execution_count": 10,
   "metadata": {},
   "outputs": [],
   "source": [
    "# with open('imdb_train', 'w') as f:\n",
    "#     for ex in train:\n",
    "#         text = tokenizer.decode(tokenizer.convert_tokens_to_ids(ex.text))\n",
    "#         text = text.replace('< br / >', '<br />')\n",
    "#         label = ['neg', 'pos'].index(ex.label)\n",
    "#         f.write(str(label) + ' ' + text + '\\n')"
   ]
  },
  {
   "cell_type": "code",
   "execution_count": 41,
   "metadata": {
    "colab": {},
    "colab_type": "code",
    "id": "QuUGdraerpky"
   },
   "outputs": [],
   "source": [
    "# make iterator for splits\n",
    "train_adv_iter, test_adv_iter = torchtext.data.BucketIterator.splits(\n",
    "    (train_adv, test_adv), batch_size=16, device=device)"
   ]
  },
  {
   "cell_type": "code",
   "execution_count": null,
   "metadata": {
    "colab": {},
    "colab_type": "code",
    "id": "QuUGdraerpky"
   },
   "outputs": [],
   "source": [
    "# make iterator for splits\n",
    "train_iter, test_iter = torchtext.data.BucketIterator.splits(\n",
    "    (train, test), batch_size=16, device=device)"
   ]
  },
  {
   "cell_type": "markdown",
   "metadata": {
    "colab_type": "text",
    "id": "V-lM4EK2rpk0"
   },
   "source": [
    "# Train BERT"
   ]
  },
  {
   "cell_type": "code",
   "execution_count": 9,
   "metadata": {},
   "outputs": [],
   "source": [
    "def undersample_neg(text, label):\n",
    "    neg_locs = torch.where(label == 0)[0]\n",
    "    pos_locs = torch.where(label == 1)[0]\n",
    "    if len(pos_locs) == 0:\n",
    "        return text, label\n",
    "    neg_loc_sample = neg_locs[torch.randint(high=len(neg_locs), size=(len(pos_locs),))]\n",
    "    sample_loc = torch.cat([pos_locs, neg_loc_sample])\n",
    "#     print(pos_locs, neg_loc_sample, sample_loc)\n",
    "    return text[sample_loc], label[sample_loc]"
   ]
  },
  {
   "cell_type": "code",
   "execution_count": null,
   "metadata": {},
   "outputs": [],
   "source": [
    "# lock all by the last k layers for training\n",
    "# num_unlocked = 5\n",
    "# for param in list(bert.parameters())[:-num_unlocked*2]:\n",
    "#     param.requires_grad = False\n",
    "# for param in list(bert.parameters())[-num_unlocked*2:]:\n",
    "#     param.requires_grad = True\n",
    "[x.requires_grad for x in bert.parameters()][-10:]"
   ]
  },
  {
   "cell_type": "code",
   "execution_count": 43,
   "metadata": {
    "colab": {},
    "colab_type": "code",
    "id": "iBbGKiX4rpk1"
   },
   "outputs": [],
   "source": [
    "criterion = nn.CrossEntropyLoss()\n",
    "optimizer = AdamW(bert.parameters(), lr=1e-3)"
   ]
  },
  {
   "cell_type": "code",
   "execution_count": 44,
   "metadata": {},
   "outputs": [],
   "source": [
    "# keep track of train and validation performance\n",
    "losses = []\n",
    "accuracies = []\n",
    "val_losses = []\n",
    "val_accuracies = []"
   ]
  },
  {
   "cell_type": "code",
   "execution_count": 45,
   "metadata": {
    "colab": {
     "base_uri": "https://localhost:8080/",
     "height": 514
    },
    "colab_type": "code",
    "id": "1-xIq9iCrpk4",
    "outputId": "d5e886dd-bbb4-484d-e6fb-ab11807c112e"
   },
   "outputs": [
    {
     "name": "stdout",
     "output_type": "stream",
     "text": [
      "1\t20\t0.7303301423788071\t0.525\n",
      "1\t40\t0.7019224733114242\t0.490625\n",
      "1\t60\t0.709674420952797\t0.496875\n",
      "1\t80\t0.697924017906189\t0.471875\n",
      "1\t100\t0.6947230070829391\t0.503125\n",
      "1\t120\t0.6970780581235886\t0.465625\n",
      "1\t140\t0.7048288345336914\t0.49375\n",
      "1\t160\t0.6964115381240845\t0.5\n",
      "1\t180\t0.695009070634842\t0.49375\n",
      "1\t200\t0.6925548821687698\t0.553125\n",
      "1\t220\t0.6964047074317932\t0.503125\n",
      "1\t240\t0.6929316401481629\t0.525\n",
      "1\t260\t0.6944901436567307\t0.50625\n",
      "1\t280\t0.6921051770448685\t0.53125\n",
      "1\t300\t0.6946153759956359\t0.490625\n",
      "1\t320\t0.6937148183584213\t0.475\n",
      "1\t340\t0.6930106937885284\t0.5125\n",
      "1\t360\t0.6941011488437653\t0.459375\n",
      "1\t380\t0.6936863452196121\t0.4875\n",
      "val. loss: 0.69316\t val. acc: 49.96%\n",
      "2\t20\t0.6931402921676636\t0.50625\n",
      "2\t40\t0.6939526557922363\t0.490625\n",
      "2\t60\t0.6933859825134278\t0.453125\n",
      "2\t80\t0.6933535784482956\t0.484375\n",
      "2\t100\t0.6933422297239303\t0.48125\n",
      "2\t120\t0.6936003029346466\t0.484375\n",
      "2\t140\t0.693405932188034\t0.48125\n",
      "2\t160\t0.692896056175232\t0.528125\n",
      "2\t180\t0.693801012635231\t0.4875\n",
      "2\t200\t0.6935030609369278\t0.475\n",
      "2\t220\t0.6938733488321305\t0.465625\n",
      "2\t240\t0.6932397514581681\t0.49375\n",
      "2\t260\t0.6932003736495972\t0.50625\n",
      "2\t280\t0.6932075917720795\t0.5\n",
      "2\t300\t0.693165072798729\t0.50625\n",
      "2\t320\t0.6932397991418838\t0.49375\n",
      "2\t340\t0.6931793630123139\t0.49375\n",
      "2\t360\t0.693168106675148\t0.50625\n",
      "2\t380\t0.6932366728782654\t0.48125\n",
      "val. loss: 0.69315\t val. acc: 49.96%\n",
      "3\t20\t0.6930442035198212\t0.525\n",
      "3\t40\t0.6936071246862412\t0.4375\n",
      "3\t60\t0.6932009488344193\t0.496875\n"
     ]
    },
    {
     "ename": "KeyboardInterrupt",
     "evalue": "",
     "output_type": "error",
     "traceback": [
      "\u001b[0;31m---------------------------------------------------------------------------\u001b[0m",
      "\u001b[0;31mKeyboardInterrupt\u001b[0m                         Traceback (most recent call last)",
      "\u001b[0;32m<ipython-input-45-d991111964d4>\u001b[0m in \u001b[0;36m<module>\u001b[0;34m\u001b[0m\n\u001b[1;32m     13\u001b[0m         \u001b[0maccuracies\u001b[0m\u001b[0;34m.\u001b[0m\u001b[0mappend\u001b[0m\u001b[0;34m(\u001b[0m\u001b[0macc\u001b[0m\u001b[0;34m)\u001b[0m\u001b[0;34m\u001b[0m\u001b[0;34m\u001b[0m\u001b[0m\n\u001b[1;32m     14\u001b[0m         \u001b[0mloss\u001b[0m \u001b[0;34m=\u001b[0m \u001b[0mcriterion\u001b[0m\u001b[0;34m(\u001b[0m\u001b[0moutput\u001b[0m\u001b[0;34m,\u001b[0m \u001b[0mlabel\u001b[0m\u001b[0;34m)\u001b[0m\u001b[0;34m\u001b[0m\u001b[0;34m\u001b[0m\u001b[0m\n\u001b[0;32m---> 15\u001b[0;31m         \u001b[0mloss\u001b[0m\u001b[0;34m.\u001b[0m\u001b[0mbackward\u001b[0m\u001b[0;34m(\u001b[0m\u001b[0;34m)\u001b[0m\u001b[0;34m\u001b[0m\u001b[0;34m\u001b[0m\u001b[0m\n\u001b[0m\u001b[1;32m     16\u001b[0m         \u001b[0moptimizer\u001b[0m\u001b[0;34m.\u001b[0m\u001b[0mstep\u001b[0m\u001b[0;34m(\u001b[0m\u001b[0;34m)\u001b[0m\u001b[0;34m\u001b[0m\u001b[0;34m\u001b[0m\u001b[0m\n\u001b[1;32m     17\u001b[0m \u001b[0;34m\u001b[0m\u001b[0m\n",
      "\u001b[0;32m~/.envs/deployable/lib/python3.6/site-packages/torch/tensor.py\u001b[0m in \u001b[0;36mbackward\u001b[0;34m(self, gradient, retain_graph, create_graph)\u001b[0m\n\u001b[1;32m    164\u001b[0m                 \u001b[0mproducts\u001b[0m\u001b[0;34m.\u001b[0m \u001b[0mDefaults\u001b[0m \u001b[0mto\u001b[0m\u001b[0;31m \u001b[0m\u001b[0;31m`\u001b[0m\u001b[0;31m`\u001b[0m\u001b[0;32mFalse\u001b[0m\u001b[0;31m`\u001b[0m\u001b[0;31m`\u001b[0m\u001b[0;34m.\u001b[0m\u001b[0;34m\u001b[0m\u001b[0;34m\u001b[0m\u001b[0m\n\u001b[1;32m    165\u001b[0m         \"\"\"\n\u001b[0;32m--> 166\u001b[0;31m         \u001b[0mtorch\u001b[0m\u001b[0;34m.\u001b[0m\u001b[0mautograd\u001b[0m\u001b[0;34m.\u001b[0m\u001b[0mbackward\u001b[0m\u001b[0;34m(\u001b[0m\u001b[0mself\u001b[0m\u001b[0;34m,\u001b[0m \u001b[0mgradient\u001b[0m\u001b[0;34m,\u001b[0m \u001b[0mretain_graph\u001b[0m\u001b[0;34m,\u001b[0m \u001b[0mcreate_graph\u001b[0m\u001b[0;34m)\u001b[0m\u001b[0;34m\u001b[0m\u001b[0;34m\u001b[0m\u001b[0m\n\u001b[0m\u001b[1;32m    167\u001b[0m \u001b[0;34m\u001b[0m\u001b[0m\n\u001b[1;32m    168\u001b[0m     \u001b[0;32mdef\u001b[0m \u001b[0mregister_hook\u001b[0m\u001b[0;34m(\u001b[0m\u001b[0mself\u001b[0m\u001b[0;34m,\u001b[0m \u001b[0mhook\u001b[0m\u001b[0;34m)\u001b[0m\u001b[0;34m:\u001b[0m\u001b[0;34m\u001b[0m\u001b[0;34m\u001b[0m\u001b[0m\n",
      "\u001b[0;32m~/.envs/deployable/lib/python3.6/site-packages/torch/autograd/__init__.py\u001b[0m in \u001b[0;36mbackward\u001b[0;34m(tensors, grad_tensors, retain_graph, create_graph, grad_variables)\u001b[0m\n\u001b[1;32m     97\u001b[0m     Variable._execution_engine.run_backward(\n\u001b[1;32m     98\u001b[0m         \u001b[0mtensors\u001b[0m\u001b[0;34m,\u001b[0m \u001b[0mgrad_tensors\u001b[0m\u001b[0;34m,\u001b[0m \u001b[0mretain_graph\u001b[0m\u001b[0;34m,\u001b[0m \u001b[0mcreate_graph\u001b[0m\u001b[0;34m,\u001b[0m\u001b[0;34m\u001b[0m\u001b[0;34m\u001b[0m\u001b[0m\n\u001b[0;32m---> 99\u001b[0;31m         allow_unreachable=True)  # allow_unreachable flag\n\u001b[0m\u001b[1;32m    100\u001b[0m \u001b[0;34m\u001b[0m\u001b[0m\n\u001b[1;32m    101\u001b[0m \u001b[0;34m\u001b[0m\u001b[0m\n",
      "\u001b[0;31mKeyboardInterrupt\u001b[0m: "
     ]
    }
   ],
   "source": [
    "verbose_interval = 20\n",
    "num_epochs = 20\n",
    "\n",
    "for epoch in range(num_epochs):\n",
    "    for ibatch, batch in enumerate(train_adv_iter):\n",
    "        text = batch.text\n",
    "        label = batch.label - 1\n",
    "#         text, label = undersample_neg(text, label)\n",
    "        \n",
    "        optimizer.zero_grad()\n",
    "        output = bert(text)[0]\n",
    "        acc = np.mean((output.argmax(dim=-1) == label).cpu().numpy())\n",
    "        accuracies.append(acc)\n",
    "        loss = criterion(output, label)\n",
    "        loss.backward()\n",
    "        optimizer.step()\n",
    "        \n",
    "        losses.append(loss.item())\n",
    "        if (ibatch + 1) % verbose_interval == 0:\n",
    "            print(epoch+1, ibatch+1, np.mean(losses[-verbose_interval:]), np.mean(accuracies[-verbose_interval:]), sep='\\t')\n",
    "    \n",
    "    val_batch_losses = []\n",
    "    val_batch_accuracies = []\n",
    "    for batch in list(test_adv_iter):\n",
    "        text = batch.text\n",
    "        label = batch.label - 1\n",
    "        output = bert(text)[0]\n",
    "        acc = np.mean((output.argmax(dim=-1) == label).cpu().numpy())\n",
    "        val_batch_accuracies.append(acc)\n",
    "        loss = criterion(output, label)\n",
    "        val_batch_losses.append(loss.item())\n",
    "    val_losses.append(np.mean(val_batch_losses))\n",
    "    val_accuracies.append(np.mean(val_batch_accuracies))\n",
    "    \n",
    "    print(f'val. loss: {val_losses[-1]:0.5f}\\t val. acc: {val_accuracies[-1]*100:0.2f}%')"
   ]
  },
  {
   "cell_type": "code",
   "execution_count": 20,
   "metadata": {},
   "outputs": [],
   "source": [
    "def evaluate(model, eval_iter):\n",
    "    scores = []\n",
    "    for ibatch, batch in enumerate(tqdm(eval_iter)):\n",
    "        text = batch.text\n",
    "        label = batch.label - 1\n",
    "\n",
    "        output = model(text)[0]\n",
    "        acc = np.mean((output.argmax(dim=-1) == label).cpu().numpy())\n",
    "        scores.append(acc)\n",
    "        \n",
    "    return np.mean(scores)"
   ]
  },
  {
   "cell_type": "code",
   "execution_count": 27,
   "metadata": {},
   "outputs": [
    {
     "data": {
      "image/png": "[encoded data removed]",
      "text/plain": [
       "<Figure size 432x288 with 1 Axes>"
      ]
     },
     "metadata": {
      "needs_background": "light"
     },
     "output_type": "display_data"
    }
   ],
   "source": [
    "plt.plot(val_accuracies)\n",
    "plt.title('Val. Accuracy')\n",
    "plt.show()"
   ]
  },
  {
   "cell_type": "code",
   "execution_count": 18,
   "metadata": {},
   "outputs": [
    {
     "data": {
      "text/plain": [
       "[<matplotlib.lines.Line2D at 0x7f9281dfdfd0>]"
      ]
     },
     "execution_count": 18,
     "metadata": {},
     "output_type": "execute_result"
    },
    {
     "data": {
      "image/png": "[encoded data removed]",
      "text/plain": [
       "<Figure size 432x288 with 1 Axes>"
      ]
     },
     "metadata": {},
     "output_type": "display_data"
    }
   ],
   "source": [
    "plt.plot(accuracies)"
   ]
  },
  {
   "cell_type": "code",
   "execution_count": 21,
   "metadata": {},
   "outputs": [
    {
     "name": "stderr",
     "output_type": "stream",
     "text": [
      "100%|██████████| 50/50 [00:06<00:00,  7.33it/s]\n"
     ]
    },
    {
     "data": {
      "text/plain": [
       "1.0"
      ]
     },
     "execution_count": 21,
     "metadata": {},
     "output_type": "execute_result"
    }
   ],
   "source": [
    "evaluate(bert, test_adv_iter)"
   ]
  },
  {
   "cell_type": "code",
   "execution_count": 22,
   "metadata": {},
   "outputs": [
    {
     "name": "stderr",
     "output_type": "stream",
     "text": [
      "100%|██████████| 50/50 [00:06<00:00,  7.36it/s]\n"
     ]
    },
    {
     "data": {
      "text/plain": [
       "0.434375"
      ]
     },
     "execution_count": 22,
     "metadata": {},
     "output_type": "execute_result"
    }
   ],
   "source": [
    "evaluate(bert, list(test_iter)[:50])"
   ]
  },
  {
   "cell_type": "code",
   "execution_count": null,
   "metadata": {},
   "outputs": [],
   "source": [
    "evaluate(bert, test_iter)"
   ]
  }
 ],
 "metadata": {
  "kernelspec": {
   "display_name": "Python 3",
   "language": "python",
   "name": "python3"
  },
  "language_info": {
   "codemirror_mode": {
    "name": "ipython",
    "version": 3
   },
   "file_extension": ".py",
   "mimetype": "text/x-python",
   "name": "python",
   "nbconvert_exporter": "python",
   "pygments_lexer": "ipython3",
   "version": "3.6.8"
  }
 },
 "nbformat": 4,
 "nbformat_minor": 4
}
